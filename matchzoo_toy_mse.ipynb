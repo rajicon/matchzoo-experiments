{
 "cells": [
  {
   "cell_type": "code",
   "execution_count": 1,
   "metadata": {},
   "outputs": [
    {
     "name": "stderr",
     "output_type": "stream",
     "text": [
      "Using TensorFlow backend.\n"
     ]
    }
   ],
   "source": [
    "import matchzoo as mz\n",
    "from matchzoo import DataGenerator\n",
    "import pandas as pd\n",
    "import numpy as np\n",
    "import keras\n",
    "from keras.models import Sequential\n",
    "from keras.layers import Dense\n",
    "from sklearn.metrics import accuracy_score\n",
    "from sklearn.metrics import classification_report\n",
    "from sklearn.metrics import f1_score\n",
    "import scipy\n",
    "\n",
    "from sklearn.metrics import precision_recall_fscore_support"
   ]
  },
  {
   "cell_type": "markdown",
   "metadata": {},
   "source": [
    "# Load Data and Preprocess It"
   ]
  },
  {
   "cell_type": "code",
   "execution_count": 2,
   "metadata": {},
   "outputs": [
    {
     "name": "stderr",
     "output_type": "stream",
     "text": [
      "Processing text_left with chain_transform of TokenizeUnit => LowercaseUnit => PuncRemovalUnit => StopRemovalUnit => NgramLetterUnit: 100%|█| 716/716 [00:00<00:00, 9927.94it/s]\n",
      "Processing text_right with chain_transform of TokenizeUnit => LowercaseUnit => PuncRemovalUnit => StopRemovalUnit => NgramLetterUnit: 100%|█| 1025/1025 [00:00<00:00, 2980.44it/s]\n",
      "Processing text_left with extend: 100%|██████████████████████████████████████████████████████| 716/716 [00:00<?, ?it/s]\n",
      "Processing text_right with extend: 100%|███████████████████████████████████████| 1025/1025 [00:00<00:00, 255750.24it/s]\n",
      "Building VocabularyUnit from a datapack.: 100%|███████████████████████████| 112803/112803 [00:00<00:00, 2820918.39it/s]\n",
      "Processing text_left with chain_transform of TokenizeUnit => LowercaseUnit => PuncRemovalUnit => StopRemovalUnit => NgramLetterUnit => WordHashingUnit: 100%|█| 716/716 [00:00<00:00, 6476.73it/s]\n",
      "Processing text_right with chain_transform of TokenizeUnit => LowercaseUnit => PuncRemovalUnit => StopRemovalUnit => NgramLetterUnit => WordHashingUnit: 100%|█| 1025/1025 [00:00<00:00, 2653.31it/s]\n",
      "Processing text_left with chain_transform of TokenizeUnit => LowercaseUnit => PuncRemovalUnit => StopRemovalUnit => NgramLetterUnit => WordHashingUnit: 100%|█| 200/200 [00:00<00:00, 5551.29it/s]\n",
      "Processing text_right with chain_transform of TokenizeUnit => LowercaseUnit => PuncRemovalUnit => StopRemovalUnit => NgramLetterUnit => WordHashingUnit: 100%|█| 734/734 [00:00<00:00, 2859.51it/s]\n"
     ]
    }
   ],
   "source": [
    "train_raw = mz.pack(pd.read_csv('toy_matchzoo_train.csv', index_col=0))\n",
    "test_raw = mz.pack(pd.read_csv('toy_matchzoo_test.csv', index_col=0))\n",
    "\n",
    "train_raw.relation['label'] = train_raw.relation['label'].astype('float32')\n",
    "test_raw.relation['label'] = test_raw.relation['label'].astype('float32')\n",
    "\n",
    "preprocessor = mz.preprocessors.DSSMPreprocessor()\n",
    "\n",
    "preprocessor.fit(train_raw)\n",
    "preprocessor.context\n",
    "\n",
    "train_preprocessed = preprocessor.transform(train_raw)\n",
    "test_preprocessed = preprocessor.transform(test_raw)"
   ]
  },
  {
   "cell_type": "markdown",
   "metadata": {},
   "source": [
    "# Build Model"
   ]
  },
  {
   "cell_type": "code",
   "execution_count": 3,
   "metadata": {},
   "outputs": [
    {
     "name": "stdout",
     "output_type": "stream",
     "text": [
      "Parameter \"name\" set to DSSM.\n",
      "Parameter \"task\" set to Ranking Task.\n"
     ]
    }
   ],
   "source": [
    "model = mz.models.DSSM()\n",
    "model.params['input_shapes'] = preprocessor.context['input_shapes']\n",
    "model.params['mlp_num_layers'] = 3\n",
    "model.params['mlp_num_units'] = 300\n",
    "model.params['mlp_num_fan_out'] = 128\n",
    "model.params['mlp_activation_func'] = 'relu'\n",
    "model.guess_and_fill_missing_params()"
   ]
  },
  {
   "cell_type": "markdown",
   "metadata": {},
   "source": [
    "Since no loss function set, default is Mean Square Error"
   ]
  },
  {
   "cell_type": "code",
   "execution_count": 4,
   "metadata": {},
   "outputs": [
    {
     "name": "stdout",
     "output_type": "stream",
     "text": [
      "mse\n"
     ]
    }
   ],
   "source": [
    "model.build()\n",
    "model.compile()\n",
    "print(model._params['task'].loss)\n"
   ]
  },
  {
   "cell_type": "markdown",
   "metadata": {},
   "source": [
    "# Train Model\n"
   ]
  },
  {
   "cell_type": "code",
   "execution_count": 5,
   "metadata": {},
   "outputs": [
    {
     "name": "stdout",
     "output_type": "stream",
     "text": [
      "Train on 4986 samples, validate on 1248 samples\n",
      "Epoch 1/20\n",
      " - 4s - loss: 0.1439 - val_loss: 0.1434\n",
      "Epoch 2/20\n",
      " - 4s - loss: 0.1412 - val_loss: 0.1403\n",
      "Epoch 3/20\n",
      " - 4s - loss: 0.1393 - val_loss: 0.1437\n",
      "Epoch 4/20\n",
      " - 4s - loss: 0.1373 - val_loss: 0.1422\n",
      "Epoch 5/20\n",
      " - 4s - loss: 0.1319 - val_loss: 0.1499\n",
      "Epoch 6/20\n",
      " - 4s - loss: 0.1184 - val_loss: 0.1666\n",
      "Epoch 7/20\n",
      " - 4s - loss: 0.0917 - val_loss: 0.1878\n",
      "Epoch 8/20\n",
      " - 4s - loss: 0.0646 - val_loss: 0.2067\n",
      "Epoch 9/20\n",
      " - 4s - loss: 0.0403 - val_loss: 0.2224\n",
      "Epoch 10/20\n",
      " - 4s - loss: 0.0204 - val_loss: 0.2221\n",
      "Epoch 11/20\n",
      " - 4s - loss: 0.0116 - val_loss: 0.2240\n",
      "Epoch 12/20\n",
      " - 4s - loss: 0.0067 - val_loss: 0.2220\n",
      "Epoch 13/20\n",
      " - 4s - loss: 0.0042 - val_loss: 0.2263\n",
      "Epoch 14/20\n",
      " - 4s - loss: 0.0027 - val_loss: 0.2200\n",
      "Epoch 15/20\n",
      " - 4s - loss: 0.0019 - val_loss: 0.2206\n",
      "Epoch 16/20\n",
      " - 4s - loss: 0.0016 - val_loss: 0.2181\n",
      "Epoch 17/20\n",
      " - 4s - loss: 0.0014 - val_loss: 0.2167\n",
      "Epoch 18/20\n",
      " - 4s - loss: 0.0013 - val_loss: 0.2180\n",
      "Epoch 19/20\n",
      " - 4s - loss: 0.0011 - val_loss: 0.2160\n",
      "Epoch 20/20\n",
      " - 4s - loss: 0.0011 - val_loss: 0.2172\n"
     ]
    }
   ],
   "source": [
    "x_train, y_train = train_preprocessed.unpack()\n",
    "x_test, y_test = test_preprocessed.unpack()\n",
    "\n",
    "history = model.fit(x_train, y_train, validation_data=(x_test, y_test), epochs=20, verbose=2)"
   ]
  },
  {
   "cell_type": "markdown",
   "metadata": {},
   "source": [
    "# Evaluate"
   ]
  },
  {
   "cell_type": "code",
   "execution_count": 6,
   "metadata": {},
   "outputs": [
    {
     "name": "stdout",
     "output_type": "stream",
     "text": [
      "[[-0.00103   ]\n",
      " [ 0.03490742]\n",
      " [-0.00103   ]\n",
      " [ 0.02278818]\n",
      " [ 0.8897946 ]\n",
      " [ 0.14078303]\n",
      " [-0.00103   ]\n",
      " [ 0.03368205]\n",
      " [ 0.59130794]\n",
      " [ 0.05867494]]\n",
      "[[1.]\n",
      " [0.]\n",
      " [0.]\n",
      " [0.]\n",
      " [0.]\n",
      " [0.]\n",
      " [1.]\n",
      " [0.]\n",
      " [0.]\n",
      " [0.]]\n"
     ]
    }
   ],
   "source": [
    "y_pred = model.predict(x_test)\n",
    "\n",
    "print(y_pred[0:10])\n",
    "print(y_test[0:10])\n",
    "\n",
    "\n",
    "\n"
   ]
  },
  {
   "cell_type": "code",
   "execution_count": 7,
   "metadata": {},
   "outputs": [
    {
     "name": "stdout",
     "output_type": "stream",
     "text": [
      "0.08943089430894309\n",
      "0.052884615384615384\n",
      "0.06646525679758308\n",
      "0.06646525679758308\n"
     ]
    }
   ],
   "source": [
    "#classify\n",
    "y_pred_cutoff = y_pred > .5\n",
    "\n",
    "prec, recall, f1beta, support = precision_recall_fscore_support(y_test, y_pred_cutoff, pos_label=1, average='binary')\n",
    "\n",
    "print(prec)\n",
    "print(recall)\n",
    "print(f1beta)\n",
    "print(f1_score(y_test, y_pred_cutoff, pos_label=1, average='binary'))"
   ]
  }
 ],
 "metadata": {
  "kernelspec": {
   "display_name": "Python 3",
   "language": "python",
   "name": "python3"
  },
  "language_info": {
   "codemirror_mode": {
    "name": "ipython",
    "version": 3
   },
   "file_extension": ".py",
   "mimetype": "text/x-python",
   "name": "python",
   "nbconvert_exporter": "python",
   "pygments_lexer": "ipython3",
   "version": "3.6.4"
  }
 },
 "nbformat": 4,
 "nbformat_minor": 2
}
